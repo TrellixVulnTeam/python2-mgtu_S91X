{
 "cells": [
  {
   "cell_type": "markdown",
   "metadata": {
    "slideshow": {
     "slide_type": "-"
    }
   },
   "source": [
    "# Модуль 2. Практическая работа\n"
   ]
  },
  {
   "cell_type": "code",
   "execution_count": 1,
   "metadata": {},
   "outputs": [],
   "source": [
    "import abc\n",
    "import random\n",
    "\n",
    "class IShape(abc.ABC):\n",
    "    '''Интерфейс для реализации геометрических фигур'''\n",
    "\n",
    "    @abc.abstractmethod\n",
    "    def __init__(self, *params):\n",
    "        pass\n",
    "    \n",
    "    @abc.abstractmethod\n",
    "    def get_perimeter(self) -> int:\n",
    "        pass\n",
    "    \n",
    "    @abc.abstractmethod\n",
    "    def get_area(self) -> int:\n",
    "        pass\n",
    "    \n",
    "    #@abc.abstractmethod\n",
    "    #def get_description(self) -> str:\n",
    "    #    pass"
   ]
  },
  {
   "cell_type": "markdown",
   "metadata": {
    "slideshow": {
     "slide_type": "-"
    }
   },
   "source": [
    "## Схватка двух ёкодзун \n"
   ]
  },
  {
   "cell_type": "markdown",
   "metadata": {},
   "source": [
    "### Ваше решение"
   ]
  },
  {
   "cell_type": "code",
   "execution_count": 2,
   "metadata": {},
   "outputs": [],
   "source": [
    "class Circle(IShape):\n",
    "    \n",
    "    def __init__(self, r):\n",
    "        self.__r = r\n",
    "    \n",
    "    def __repr__(self):\n",
    "        return \"Я круг, радиуса: \" + str(self.__r)\n",
    "    \n",
    "    def get_perimeter(self):\n",
    "        return 2 * 3 * self.__r\n",
    "    \n",
    "    def get_area(self):\n",
    "        return 3 * self.__r * self.__r\n",
    "        "
   ]
  },
  {
   "cell_type": "code",
   "execution_count": 3,
   "metadata": {},
   "outputs": [],
   "source": [
    "class Rectangle(IShape):\n",
    "    \n",
    "    def __init__(self, a, b):\n",
    "        self.__a = a\n",
    "        self.__b = b\n",
    "        \n",
    "    def __repr__(self):\n",
    "        return \"Я прямоугольник, со сторонами: \" + str(self.__a) + \" на \" + str(self.__b)\n",
    "     \n",
    "    def get_perimeter(self):\n",
    "        return 2 * (self.__a + self.__b)\n",
    "    \n",
    "    def get_area(self):\n",
    "        return self.__a * self.__b"
   ]
  },
  {
   "cell_type": "code",
   "execution_count": 4,
   "metadata": {},
   "outputs": [],
   "source": [
    "class Square(IShape):\n",
    "    \n",
    "    def __init__(self, a):\n",
    "        self.__a = a\n",
    "        \n",
    "    def __repr__(self):\n",
    "        return \"Я квадрат, со сторонами: \" + str(self.__a)\n",
    "        \n",
    "    def get_perimeter(self):\n",
    "        return 4 * self.__a\n",
    "    \n",
    "    def get_area(self):\n",
    "        return self.__a * self.__a"
   ]
  },
  {
   "cell_type": "code",
   "execution_count": 5,
   "metadata": {},
   "outputs": [],
   "source": [
    "class Game:\n",
    "    \n",
    "    def run():\n",
    "        shape = Game.get_shape()\n",
    "        Game.request(str(shape) + \" Мой периметер?\", str(shape.get_perimeter()), \"Правильно!\",\"Не правильно (:\")  \n",
    "        Game.request(\"А моя площадь?\", str(shape.get_area()), \"Правильно!\",\"Не правильно (:\")      \n",
    "    \n",
    "    def get_shape():\n",
    "        rand = random.randint(1,3)\n",
    "        if rand == 1:\n",
    "            return Circle(random.randint(1,10))\n",
    "        elif rand == 2:\n",
    "            return Rectangle(random.randint(1,10), random.randint(1,10))\n",
    "        else:\n",
    "            return Square(random.randint(1,10))\n",
    "    \n",
    "    def play():\n",
    "        res = Game.request(\"Привет! Мы фигуры и у нас есть два вопроса. Играем? Y/N:\", \"Y\")\n",
    "        while res:\n",
    "            Game.run()\n",
    "            res = Game.request(\"Привет! Мы фигуры и у нас есть два вопроса. Играем? Y/N:\", \"Y\")\n",
    "        Game.request(\"Спасибо за участие!\")\n",
    "        \n",
    "    \n",
    "    def request(str_request, result = \"\", str_true = \"\", str_false = \"\"):\n",
    "        print(str_request)\n",
    "        #print(result)\n",
    "        if result != \"\":\n",
    "            ans = Game.answer()\n",
    "            if ans == result:\n",
    "                print(str_true)\n",
    "                return True\n",
    "            else:\n",
    "                print(str_false)\n",
    "                return False\n",
    "\n",
    "    \n",
    "    def answer():\n",
    "        ans = input()\n",
    "        return ans\n",
    "        "
   ]
  },
  {
   "cell_type": "markdown",
   "metadata": {},
   "source": [
    "### Ваше решение"
   ]
  },
  {
   "cell_type": "code",
   "execution_count": 6,
   "metadata": {
    "scrolled": true
   },
   "outputs": [
    {
     "name": "stdout",
     "output_type": "stream",
     "text": [
      "Привет! Мы фигуры и у нас есть два вопроса. Играем? Y/N:\n",
      "Y\n",
      "\n",
      "Я квадрат, со сторонами: 4 Мой периметер?\n",
      "16\n",
      "Правильно!\n",
      "А моя площадь?\n",
      "16\n",
      "Правильно!\n",
      "Привет! Мы фигуры и у нас есть два вопроса. Играем? Y/N:\n",
      "Y\n",
      "\n",
      "Я прямоугольник, со сторонами: 5 на 5 Мой периметер?\n",
      "20\n",
      "Правильно!\n",
      "А моя площадь?\n",
      "25\n",
      "Правильно!\n",
      "Привет! Мы фигуры и у нас есть два вопроса. Играем? Y/N:\n",
      "Y\n",
      "\n",
      "Я прямоугольник, со сторонами: 5 на 9 Мой периметер?\n",
      "28\n",
      "Правильно!\n",
      "А моя площадь?\n",
      "45\n",
      "Правильно!\n",
      "Привет! Мы фигуры и у нас есть два вопроса. Играем? Y/N:\n",
      "Y\n",
      "\n",
      "Я круг, радиуса: 4 Мой периметер?\n",
      "24\n",
      "Правильно!\n",
      "А моя площадь?\n",
      "48\n",
      "Правильно!\n",
      "Привет! Мы фигуры и у нас есть два вопроса. Играем? Y/N:\n",
      "N\n",
      "\n",
      "Спасибо за участие!\n"
     ]
    }
   ],
   "source": [
    "Game.play()\n",
    "#Game.play()"
   ]
  }
 ],
 "metadata": {
  "kernelspec": {
   "display_name": "Python 3",
   "language": "python",
   "name": "python3"
  },
  "language_info": {
   "codemirror_mode": {
    "name": "ipython",
    "version": 3
   },
   "file_extension": ".py",
   "mimetype": "text/x-python",
   "name": "python",
   "nbconvert_exporter": "python",
   "pygments_lexer": "ipython3",
   "version": "3.7.3"
  }
 },
 "nbformat": 4,
 "nbformat_minor": 2
}
