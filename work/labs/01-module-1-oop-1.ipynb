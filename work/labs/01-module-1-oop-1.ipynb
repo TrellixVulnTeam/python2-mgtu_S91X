{
 "cells": [
  {
   "cell_type": "markdown",
   "metadata": {
    "slideshow": {
     "slide_type": "-"
    }
   },
   "source": [
    "# Модуль 1. Объектно-Ориентированное Программирование\n",
    "## Фундаментальные основы"
   ]
  },
  {
   "cell_type": "markdown",
   "metadata": {
    "slideshow": {
     "slide_type": "-"
    }
   },
   "source": [
    "## Практикум"
   ]
  },
  {
   "cell_type": "markdown",
   "metadata": {
    "slideshow": {
     "slide_type": "-"
    }
   },
   "source": [
    "### Ваше решение"
   ]
  },
  {
   "cell_type": "code",
   "execution_count": 45,
   "metadata": {},
   "outputs": [],
   "source": [
    "class Point:\n",
    "    def __init__(self, x, y):\n",
    "        self.__x = x\n",
    "        self.__y = y\n",
    "        \n",
    "    def __str__(self):\n",
    "        return f\"Я - точка: координата_х: {self.__x}, координата_у: {self.__y}\"\n",
    "        \n",
    "    #get set\n",
    "    def get_x(self):\n",
    "        return self.__x\n",
    "    \n",
    "    def set_x(self, value):\n",
    "        self.__ = value\n",
    "        \n",
    "    x = property(get_x, set_x)\n",
    "    \n",
    "    def get_y(self):\n",
    "        return self.__y\n",
    "    \n",
    "    def set_y(self, value):\n",
    "        self.__ = value\n",
    "        \n",
    "    y = property(get_y, set_y)\n",
    "    \n",
    "    \n",
    "    # methods\n",
    "    def move_to(self, x, y):\n",
    "        self.__x = x\n",
    "        self.__y = y\n",
    "    def move_by(self, x, y):\n",
    "        self.__x += x\n",
    "        self.__y += y"
   ]
  },
  {
   "cell_type": "code",
   "execution_count": 46,
   "metadata": {},
   "outputs": [
    {
     "name": "stdout",
     "output_type": "stream",
     "text": [
      "Я - точка: координата_х: 10, координата_у: 20\n",
      "Я - точка: координата_х: 100, координата_у: 200\n",
      "Я - точка: координата_х: 110, координата_у: 220\n",
      "110 320\n"
     ]
    }
   ],
   "source": [
    "t = Point(10,20)\n",
    "print(str(t))\n",
    "t.move_to(100,200)\n",
    "print(str(t))\n",
    "t.move_by(10,20)\n",
    "print(str(t))\n",
    "x=t.x\n",
    "y=t.y\n",
    "print(x, y)"
   ]
  },
  {
   "cell_type": "markdown",
   "metadata": {},
   "source": [
    "### Самопроверка"
   ]
  },
  {
   "cell_type": "code",
   "execution_count": null,
   "metadata": {
    "slideshow": {
     "slide_type": "-"
    }
   },
   "outputs": [],
   "source": [
    "# Создать объект с координатами 10 x 20 \n",
    "\n",
    "# Получить строку 'Я - точка: 10 x 20'\n",
    "\n",
    "# Изменить координаты объекта на 100 х 200\n",
    "\n",
    "# Изменить координаты объекта относительно текущих на 10 и 20\n",
    "\n",
    "# Получить координаты объекта через его свойства"
   ]
  }
 ],
 "metadata": {
  "kernelspec": {
   "display_name": "Python 3",
   "language": "python",
   "name": "python3"
  },
  "language_info": {
   "codemirror_mode": {
    "name": "ipython",
    "version": 3
   },
   "file_extension": ".py",
   "mimetype": "text/x-python",
   "name": "python",
   "nbconvert_exporter": "python",
   "pygments_lexer": "ipython3",
   "version": "3.7.3"
  }
 },
 "nbformat": 4,
 "nbformat_minor": 2
}
