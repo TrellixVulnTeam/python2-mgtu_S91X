{
 "cells": [
  {
   "cell_type": "markdown",
   "metadata": {
    "slideshow": {
     "slide_type": "-"
    }
   },
   "source": [
    " # Модуль 3. Алгоритмы\n",
    "## Сложность алгоритмов"
   ]
  },
  {
   "cell_type": "code",
   "execution_count": null,
   "metadata": {
    "slideshow": {
     "slide_type": "-"
    }
   },
   "outputs": [],
   "source": [
    "# Для замеров Jupyter notebook\n",
    "\n",
    "# %time function_name(10)\n",
    "# %timeit function_name(10)\n",
    "\n",
    "################################\n",
    "\n",
    "# Для замеров в скрипте\n",
    "\n",
    "# from timeit import Timer\n",
    "\n",
    "# t = Timer(\"function_name(10)\", \"from __main__ import function_name\")\n",
    "# t.timeit(number=1)\n",
    "\n",
    "# print('{0:.6f}'.format(t.timeit(number=1)))\n"
   ]
  }
 ],
 "metadata": {
  "kernelspec": {
   "display_name": "Python 3",
   "language": "python",
   "name": "python3"
  },
  "language_info": {
   "codemirror_mode": {
    "name": "ipython",
    "version": 3
   },
   "file_extension": ".py",
   "mimetype": "text/x-python",
   "name": "python",
   "nbconvert_exporter": "python",
   "pygments_lexer": "ipython3",
   "version": "3.7.3"
  }
 },
 "nbformat": 4,
 "nbformat_minor": 2
}
